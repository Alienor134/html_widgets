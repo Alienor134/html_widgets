{
 "cells": [
  {
   "cell_type": "markdown",
   "metadata": {},
   "source": [
    "## Fluorescence emission of one Chlamydomonas reinhardtii cell depending on excitation wavelength\n",
    "\n",
    "#### You can change \n",
    "- emission wavelength\n",
    "- emission intensity (log(I) where I is expressed in eins/m²/s)\n",
    "- integration time (log(T) where T is expressed is s)"
   ]
  },
  {
   "cell_type": "code",
   "execution_count": 1,
   "metadata": {},
   "outputs": [],
   "source": [
    "#nbi:hide_in\n",
    "%config IPCompleter.greedy=True\n",
    "%load_ext autoreload\n",
    "%autoreload 2\n",
    "%matplotlib inline\n",
    "\n",
    "\n",
    "import numpy as np\n",
    "\n",
    "import pandas as pd \n",
    "import numpy as np\n",
    "from scipy.interpolate import Rbf, InterpolatedUnivariateSpline\n",
    "import matplotlib.pyplot as plt\n",
    "from ipywidgets import interact, interactive, fixed, interact_manual\n",
    "import ipywidgets as widgets\n",
    "import alienlab.plot\n",
    "import alienlab.radiometry\n"
   ]
  },
  {
   "cell_type": "code",
   "execution_count": 2,
   "metadata": {},
   "outputs": [],
   "source": [
    "#nbi:hide_in\n",
    "Na = 6.022e23\n",
    "volume_chloroplast = 130e-18 #m3 https://bionumbers.hms.harvard.edu/bionumber.aspx?&id=110528&ver=2\n",
    "mass_chloroplast = volume_chloroplast * 1e6 #g assuming same density as water\n",
    "surface_chloroplast = 25e-12 #m2 https://bionumbers.hms.harvard.edu/bionumber.aspx?id=107012\n",
    "volume_cell = 270e-18 #m3 https://bionumbers.hms.harvard.edu/bionumber.aspx?s=n&v=2&id=110530\n",
    "mass_cell = volume_cell * 1e6 #g assuming algae density is water density\n",
    "surface_cell = 48e-12 #m2 https://bionumbers.hms.harvard.edu/bionumber.aspx?s=n&v=2&id=107595"
   ]
  },
  {
   "cell_type": "code",
   "execution_count": 3,
   "metadata": {},
   "outputs": [],
   "source": [
    "#nbi:hide_in\n",
    "antenna_size = 230 #chlorophyll molecules https://bionumbers.hms.harvard.edu/bionumber.aspx?id=100847&ver=2&trm=chlorophyll&org=\n",
    "chlorophyll_molecules_per_cell = 3e-15 * Na # https://bionumbers.hms.harvard.edu/bionumber.aspx?id=100852&ver=3&trm=chlorophyll&org=\n",
    "chlorophyll_concentration_in_chloroplast = 30e-3 *1e3 #mol/m3 https://bionumbers.hms.harvard.edu/bionumber.aspx?id=100913&ver=1&trm=chloroplast&org=\n",
    "sigma_chlorophyll = 0.29e-20 #m2 596nm ABSOLUTE ABSORPTION CROSS-SECTIONS FOR PHOTOSYSTEM II AND THE MINIMUM QUANTUM REQUIREMENT FOR PHOTOSYNTHESIS IN CHLORELLA VULGARIS\n",
    "sigma_RC = 50e-20 #m2 596nm review Mauzerall 1996 and ABSOLUTE ABSORPTION CROSS-SECTIONS FOR PHOTOSYSTEM II AND THE MINIMUM QUANTUM REQUIREMENT FOR PHOTOSYNTHESIS IN CHLORELLA VULGARIS\n",
    "sigma_cell_per_g_of_dry_weight = 0.3 #m2/g 596nm Impact of light color on photobioreactor productivity -and- Simple method for measuring the spectral absorption cross-section of microalgae\n",
    "\n",
    "q_fluo_chlamy = 0.01 #quantum fluorescence yield\n",
    "collection_angle = 60 #collection angle of the detector"
   ]
  },
  {
   "cell_type": "code",
   "execution_count": 4,
   "metadata": {},
   "outputs": [],
   "source": [
    "#nbi:hide_in\n",
    "#Intermediate growth light\n",
    "intermediate_chlorophyll_per_cell = 3.3e-16 #chl (a+b)/cell\n",
    "intermediate_sigma = 60e-20 #m2\n",
    "intermediate_antenna_size = 210 #chl(a+b)/cell\n",
    "intermediate_RC_per_cell = intermediate_chlorophyll_per_cell / intermediate_antenna_size #assuming RCII/RCI = 1 and antenna size are equal"
   ]
  },
  {
   "cell_type": "code",
   "execution_count": 5,
   "metadata": {},
   "outputs": [],
   "source": [
    "#nbi:hide_in\n",
    "light_intensity = 100 * 1e-6 #E/m2/s\n",
    "wavelength = 450e-9 #m\n",
    "integration_period = 1e-3 #s\n",
    "LED_bandwidth = 5\n",
    "LED_viewangle = 60\n"
   ]
  },
  {
   "cell_type": "code",
   "execution_count": 6,
   "metadata": {},
   "outputs": [],
   "source": [
    "#nbi:hide_in\n",
    "#Medium light\n",
    "medium_light = 60e-20/230 * 3e-16 * Na #from table\n",
    "\n",
    "sigma_chlamy = 1e-12 #m²"
   ]
  },
  {
   "cell_type": "code",
   "execution_count": 7,
   "metadata": {},
   "outputs": [],
   "source": [
    "#nbi:hide_in\n",
    "#Collect the data of the graph and interpolate for given wavelength\n",
    "\n",
    "abs_chlamy = pd.read_csv(\"save_figures/graph_sigma.csv\", names = ['wavelength', 'sigma'], sep = ';', decimal = ',') \n",
    "abs_chlamy.sigma = abs_chlamy.sigma * mass_cell * 0.1 #convert m²/g to m² assuming dry mass is 10% of cell mass\n",
    "\n",
    "# Shift the graph to match intermediate growth light \n",
    "# Intepolate sigma = f(wavelength)\n",
    "X = abs_chlamy.wavelength.values\n",
    "Y = abs_chlamy.sigma.values\n",
    "sigma_chlamy = InterpolatedUnivariateSpline(X, Y)\n",
    "sigma_wavelength = sigma_chlamy(596) #from Intermediate values for Chlorella ABSOLUTE ABSORPTION CROSS-SECTIONS FOR PHOTOSYSTEM II AND THE MINIMUM QUANTUM REQUIREMENT FOR PHOTOSYNTHESIS IN CHLORELLA VULGARIS, Ley and Mauzerall\n",
    "abs_chlamy.sigma = abs_chlamy.sigma * medium_light / sigma_wavelength # Shift graph values to obtain medium light growth references\n",
    "\n",
    "fluo_chlamy = pd.read_csv(\"save_figures/fluo_chlamy.csv\", names = ['wavelength', 'fluo'], sep = ';', decimal = ',') \n",
    "fluo_chlamy.fluo = fluo_chlamy.fluo/fluo_chlamy.fluo.max()\n",
    "   \n",
    "\n"
   ]
  },
  {
   "cell_type": "code",
   "execution_count": 8,
   "metadata": {},
   "outputs": [],
   "source": [
    "#nbi:hide_in\n",
    "#Saturation : tau = 100 photons-/s per RC #Aquatic Photosynthesis Falkowski\n",
    "#I_sat * sigma_lambda = tau * reaction_center_number\n",
    "p = alienlab.plot.PlotFigure()\n",
    "tau = 100 #photons-/s\n",
    "I_sat = tau / abs_chlamy.sigma * intermediate_RC_per_cell\n",
    "p.title = 'Saturation intensity for LED centered at X-axis wavelength \\n for algae grown at 80 µeins/m²/s incandescent light '\n",
    "p.ylabel = 'Saturation intensity µeins/m²/s'\n",
    "p.xlabel = 'Central wavelength of excitation light (nm)'\n"
   ]
  },
  {
   "cell_type": "code",
   "execution_count": 9,
   "metadata": {},
   "outputs": [
    {
     "data": {
      "application/vnd.jupyter.widget-view+json": {
       "model_id": "604d69e9e501422199ebded0e929ae05",
       "version_major": 2,
       "version_minor": 0
      },
      "text/plain": [
       "interactive(children=(IntSlider(value=550, description='wavelength', max=700, min=400), IntSlider(value=-4, de…"
      ]
     },
     "metadata": {},
     "output_type": "display_data"
    }
   ],
   "source": [
    "#nbi:hide_in\n",
    "class fluorophore:\n",
    "    def __init__(self):\n",
    "        self.abs_spectrum = [] # in m²\n",
    "        self.fluo_spectrum = [] # normalized\n",
    "        self.saturation = False # is there a light saturation process?\n",
    "        self.q_fluo = 1 #fluorescence yield\n",
    "        self.species = \"Fluorophore name\"\n",
    "        self.min_wavelength = 400 #nm\n",
    "        self.max_wavelength = 750 #nm\n",
    "        self.turnover_rate = 100 #excitation/s\n",
    "        self.x_total = np.arange(self.min_wavelength, self.max_wavelength, 1) #reference wavelength scale\n",
    "        self.collection_angle = 60\n",
    "        \n",
    "    def complete_spectrum(self, X, Y):\n",
    "        \"\"\" extrapolates to zero the values of the array y over the \n",
    "        wavelength range of x_total, knowing only the values over X\"\"\"\n",
    "        Y = np.array([y for x, y in sorted(zip(X, Y))]) #preliminary sorting of the arrays along wavelength \n",
    "                                                            #(in case the graph in not properly ordered)\n",
    "        X = np.sort(X)\n",
    "        d = int(X.min())\n",
    "        f = int(X.max())\n",
    "        x_spectrum = np.arange(d, f, 1)\n",
    "        func = InterpolatedUnivariateSpline(X, Y) # interpolate given values with step 1 nm\n",
    "        y_func = func(x_spectrum)\n",
    "        y = (self.x_total * 0).astype(float) # Set y to zero everywhere\n",
    "        y[d-self.min_wavelength: f-self.min_wavelength] = y_func # Assign spectrum values on konwn portion of spectrum\n",
    "        return func, y\n",
    "        \n",
    "    def photon_emitted(self, wavelength, light_intensity, integration_period):\n",
    "        # Intepolate sigma = f(wavelength)\n",
    "        X = self.abs_spectrum.wavelength.values\n",
    "        Y = self.abs_spectrum.sigma.values\n",
    "        self.sigma_func, y_abs = self.complete_spectrum(X, Y)\n",
    "        \n",
    "        # Intepolate emission = f(wavelength)\n",
    "        X = self.fluo_spectrum.wavelength.values\n",
    "        Y = self.fluo_spectrum.fluo.values\n",
    "        self.fluofunc, y_emission = self.complete_spectrum(X, Y)    \n",
    "\n",
    "        #Excitation source LED band_width = 20nm, viewangle = 60°, overall_power = light_intensity\n",
    "        if self.saturation:\n",
    "            waverange = np.arange(wavelength - LED_bandwidth, wavelength + LED_bandwidth, 1)\n",
    "            I_sat = self.turnover_rate / np.mean(self.sigma_func(waverange)) * intermediate_RC_per_cell\n",
    "            light_intensity = min(np.log(I_sat)/np.log(10), light_intensity)\n",
    "        excitation = alienlab.radiometry.LED(wavelength, LED_bandwidth, LED_viewangle, 10**light_intensity)     \n",
    "        excitation.X = self.x_total\n",
    "        excitation_spectrum = excitation.spectrum(plot = False) #eins/m²/s/nm \n",
    "\n",
    "        #quantity of photons absorbed by the algae per sec\n",
    "        I_abs = y_abs * excitation_spectrum * Na #photons/s/nm\n",
    "        #p.plotting(excitation.X, excitation_spectrum*I_abs)\n",
    "\n",
    "        #integrate over spectrum\n",
    "        energy_absorbed = np.trapz(I_abs, self.x_total) #photons/s\n",
    "\n",
    "        self.photons_emitted = self.collection_angle / 360 * self.q_fluo * energy_absorbed * 10**integration_period #fluorescecnce and collection angle\n",
    "        #fig = p.plotting(excitation.X, I_abs)\n",
    "        print('Number of photons emitted per algae during acquisition: %0.2f'%self.photons_emitted)\n",
    "\n",
    "        full_fluo = np.trapz(y_emission, self.x_total)\n",
    "        scaling = self.photons_emitted / full_fluo \n",
    "        self.fluo_output = y_emission * scaling\n",
    "        \n",
    "        # plotting\n",
    "        p.title = \"Photons emitted by %s\"%self.species\n",
    "        p.xlabel = \"Emission wavelength (nm)\"\n",
    "        p.ylabel = 'Absorbption cross-section of \\n %s (m² per unit)'%self.species\n",
    "        p.y2label = 'Fluorescence emission (photons/unit/nm)'\n",
    "        p.label_list = ['absorbption spectrum (m²)', 'light source spectrum (total energy %f E/m²/s)'%(10**light_intensity)]\n",
    "        p.xval = self.x_total\n",
    "        #print(abs_spectrum.sigma.values.max()/excitation_spectrum.max(), abs_spectrum.sigma.values.max(), excitation_spectrum.max())\n",
    "        p.yval = [y_abs, excitation_spectrum * y_abs.max()/excitation_spectrum.max()]\n",
    "        p.label2_list = ['fluorescence (photons/unit/nm)']\n",
    "        p.x2val = self.x_total\n",
    "        p.y2val = y_emission\n",
    "\n",
    "        #print(p.xval.shape, p.x2val.shape)\n",
    "        #print(p.yval[0].shape, p.yval[1].shape, p.y2val.shape)\n",
    "\n",
    "        p.coplotting()\n",
    "\n",
    "\n",
    "chlamy = fluorophore()\n",
    "chlamy.abs_spectrum = abs_chlamy\n",
    "chlamy.fluo_spectrum = fluo_chlamy\n",
    "chlamy.q_fluo = q_fluo_chlamy     \n",
    "chlamy.turnover_rate = tau\n",
    "chlamy.saturation = True\n",
    "chlamy.species = \"Chlamydomonas reinhardtii\"\n",
    "\n",
    "dis = interact(chlamy.photon_emitted, wavelength = (400, 700), light_intensity = (-6, -2), integration_period = (-6, -1))"
   ]
  }
 ],
 "metadata": {
  "kernelspec": {
   "display_name": "Python 3",
   "language": "python",
   "name": "python3"
  },
  "language_info": {
   "codemirror_mode": {
    "name": "ipython",
    "version": 3
   },
   "file_extension": ".py",
   "mimetype": "text/x-python",
   "name": "python",
   "nbconvert_exporter": "python",
   "pygments_lexer": "ipython3",
   "version": "3.6.9"
  }
 },
 "nbformat": 4,
 "nbformat_minor": 4
}