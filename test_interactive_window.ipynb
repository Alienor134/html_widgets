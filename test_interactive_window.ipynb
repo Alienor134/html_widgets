{
 "cells": [
  {
   "cell_type": "code",
   "execution_count": 4,
   "metadata": {},
   "outputs": [],
   "source": [
    "import alienlab.plot\n",
    "from alienlab.improcessing import normalize, grey_to_rgb, make_binary\n",
    "import alienlab.segment\n",
    "import alienlab.io\n",
    "from ipywidgets import interact, interactive, fixed, interact_manual\n",
    "\n",
    "from tkinter.filedialog import askopenfilename\n",
    "\n",
    "\n",
    "import time\n",
    "import os\n",
    "import numpy as np\n",
    "import skimage.io\n",
    "import imageio\n",
    "import subprocess\n",
    "import cv2"
   ]
  },
  {
   "cell_type": "code",
   "execution_count": 5,
   "metadata": {},
   "outputs": [
    {
     "name": "stdout",
     "output_type": "stream",
     "text": [
      "(118, 272) (165, 444)\n"
     ]
    }
   ],
   "source": [
    "showit = True\n",
    "'''Import frames'''\n",
    "\n",
    "# Import video file in HQ and select ROI\n",
    "file_path = askopenfilename(title = 'Select a video file') # pops up a window to select your file\n",
    "\n",
    "direc = os.path.split(file_path)[0]\n",
    "\n",
    "# Initialize plotting tools\n",
    "g = alienlab.plot.ShowFigure()\n",
    "g.figsize = (15,7)\n",
    "g.save_folder = direc\n",
    "g.date = False\n",
    "p = alienlab.plot.PlotFigure()\n",
    "p.figsize = (15,7)\n",
    "p.save_folder = direc\n",
    "p.date = False\n",
    "\n",
    "\n",
    "#read the stacked frame. dim = NxHxW (N images in the video, Heigt, Width)\n",
    "\n",
    "frames_full = skimage.io.imread(file_path) \n",
    "im = normalize(frames_full[0], 0, 1)\n",
    "im = grey_to_rgb(im)*255\n",
    "\n",
    "y, x = alienlab.io.select_roi(np.uint8(im))\n",
    "print(x, y)\n",
    "\n"
   ]
  }
 ],
 "metadata": {
  "kernelspec": {
   "display_name": "Python 3",
   "language": "python",
   "name": "python3"
  },
  "language_info": {
   "codemirror_mode": {
    "name": "ipython",
    "version": 3
   },
   "file_extension": ".py",
   "mimetype": "text/x-python",
   "name": "python",
   "nbconvert_exporter": "python",
   "pygments_lexer": "ipython3",
   "version": "3.6.9"
  }
 },
 "nbformat": 4,
 "nbformat_minor": 4
}
